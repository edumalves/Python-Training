{
    "metadata": {
        "kernelspec": {
            "name": "python3",
            "display_name": "Python 3.10.0b4 64-bit"
        },
        "language_info": {
            "name": "python",
            "version": "3.10.0b4",
            "mimetype": "text/x-python",
            "codemirror_mode": {
                "name": "ipython",
                "version": 3
            },
            "pygments_lexer": "ipython3",
            "nbconvert_exporter": "python",
            "file_extension": ".py"
        },
        "interpreter": {
            "hash": "aee8b7b246df8f9039afb4144a1f6fd8d2ca17a180786b69acc140d282b71a49"
        }
    },
    "nbformat_minor": 2,
    "nbformat": 4,
    "cells": [
        {
            "cell_type": "code",
            "execution_count": null,
            "source": [
                "poem = \"\"\"Roses are red,\n",
                "Violets are blue,\n",
                "But the important thing is\n",
                "Learning to python.\"\"\"\n",
                "print(poem)"
            ],
            "outputs": [],
            "metadata": {}
        }
    ]
}