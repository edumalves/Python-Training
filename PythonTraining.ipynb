{
    "metadata": {
        "kernelspec": {
            "name": "python3",
            "display_name": "Python 3.10.0b4 64-bit"
        },
        "language_info": {
            "name": "python",
            "version": "3.10.0b4",
            "mimetype": "text/x-python",
            "codemirror_mode": {
                "name": "ipython",
                "version": 3
            },
            "pygments_lexer": "ipython3",
            "nbconvert_exporter": "python",
            "file_extension": ".py"
        },
        "interpreter": {
            "hash": "aee8b7b246df8f9039afb4144a1f6fd8d2ca17a180786b69acc140d282b71a49"
        }
    },
    "nbformat_minor": 2,
    "nbformat": 4,
    "cells": [
        {
            "cell_type": "code",
            "execution_count": 1
            "source": [
                "%matplotlib inline\n",
                "\n",
                "import numpy as np\n",
                "import pandas as pd\n",
                "import matplotlib.pyplot as plt\n",
                "\n",
                "stockdata = pd.read_csv('neogrid.csv', infer_datetime_format = False, parse_dates = ['Date'], index_col='Date')\n",
                "stockdata.plot"
            ],
            "outputs": [],
            "metadata": {
                "azdata_cell_guid": "96e13040-9137-4bc4-b6ee-c73cdd0e0400"
            }
        }
    ]
}