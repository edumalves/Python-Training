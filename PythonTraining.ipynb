{
    "metadata": {
        "kernelspec": {
            "name": "python3",
            "display_name": "Python 3 (ipykernel)",
            "language": "python"
        },
        "language_info": {
            "name": "python",
            "version": "3.10.0b4",
            "mimetype": "text/x-python",
            "codemirror_mode": {
                "name": "ipython",
                "version": 3
            },
            "pygments_lexer": "ipython3",
            "nbconvert_exporter": "python",
            "file_extension": ".py"
        },
        "interpreter": {
            "hash": "aee8b7b246df8f9039afb4144a1f6fd8d2ca17a180786b69acc140d282b71a49"
        }
    },
    "nbformat_minor": 2,
    "nbformat": 4,
    "cells": [
        {
            "cell_type": "code",
            "source": [
                "import pandas as pd\n",
                "# import matplotlib.pyplot as plt\n",
                "\n",
                "# pd.set_option('display.mpl_style', 'default')\n",
                "# plt.rcParams['figure.figsize'] = (15, 5)\n",
                "\n",
                "stockdata = pd.read_csv('neogrid.csv', parse_dates = ['Date'], index_col='Date')\n",
                "stockdata[:100]"
            ],
            "metadata": {
                "azdata_cell_guid": "96e13040-9137-4bc4-b6ee-c73cdd0e0400"
            },
            "outputs": [
{
    "data": {
        "text/plain": "                Close       Open       High        Low      Volume\nDate                                                              \n2021-01-04   R$ 6.69    R$ 7.30    R$ 7.37    R$ 6.63   14,584,900\n2021-01-05   R$ 7.10    R$ 6.64    R$ 7.12    R$ 6.32   12,558,300\n2021-01-06   R$ 7.24    R$ 7.16    R$ 7.39    R$ 7.05    9,855,600\n2021-01-07   R$ 7.43    R$ 7.35    R$ 7.65    R$ 7.27    8,524,800\n2021-01-08   R$ 7.34    R$ 7.51    R$ 7.58    R$ 7.13    5,639,600\n...               ...        ...        ...        ...         ...\n2021-05-24   R$ 6.50    R$ 6.52    R$ 6.52    R$ 6.40    1,349,800\n2021-05-25   R$ 6.60    R$ 6.54    R$ 6.69    R$ 6.49    1,612,200\n2021-05-26   R$ 6.74    R$ 6.60    R$ 6.84    R$ 6.57    1,693,100\n2021-05-27   R$ 6.90    R$ 6.76    R$ 6.90    R$ 6.71    1,321,600\n2021-05-28   R$ 6.79    R$ 6.91    R$ 6.96    R$ 6.75      977,600\n\n[100 rows x 5 columns]",
        "text/html": "<div>\n<style scoped>\n    .dataframe tbody tr th:only-of-type {\n        vertical-align: middle;\n    }\n\n    .dataframe tbody tr th {\n        vertical-align: top;\n    }\n\n    .dataframe thead th {\n        text-align: right;\n    }\n</style>\n<table border=\"1\" class=\"dataframe\">\n  <thead>\n    <tr style=\"text-align: right;\">\n      <th></th>\n      <th>Close</th>\n      <th>Open</th>\n      <th>High</th>\n      <th>Low</th>\n      <th>Volume</th>\n    </tr>\n    <tr>\n      <th>Date</th>\n      <th></th>\n      <th></th>\n      <th></th>\n      <th></th>\n      <th></th>\n    </tr>\n  </thead>\n  <tbody>\n    <tr>\n      <th>2021-01-04</th>\n      <td>R$ 6.69</td>\n      <td>R$ 7.30</td>\n      <td>R$ 7.37</td>\n      <td>R$ 6.63</td>\n      <td>14,584,900</td>\n    </tr>\n    <tr>\n      <th>2021-01-05</th>\n      <td>R$ 7.10</td>\n      <td>R$ 6.64</td>\n      <td>R$ 7.12</td>\n      <td>R$ 6.32</td>\n      <td>12,558,300</td>\n    </tr>\n    <tr>\n      <th>2021-01-06</th>\n      <td>R$ 7.24</td>\n      <td>R$ 7.16</td>\n      <td>R$ 7.39</td>\n      <td>R$ 7.05</td>\n      <td>9,855,600</td>\n    </tr>\n    <tr>\n      <th>2021-01-07</th>\n      <td>R$ 7.43</td>\n      <td>R$ 7.35</td>\n      <td>R$ 7.65</td>\n      <td>R$ 7.27</td>\n      <td>8,524,800</td>\n    </tr>\n    <tr>\n      <th>2021-01-08</th>\n      <td>R$ 7.34</td>\n      <td>R$ 7.51</td>\n      <td>R$ 7.58</td>\n      <td>R$ 7.13</td>\n      <td>5,639,600</td>\n    </tr>\n    <tr>\n      <th>...</th>\n      <td>...</td>\n      <td>...</td>\n      <td>...</td>\n      <td>...</td>\n      <td>...</td>\n    </tr>\n    <tr>\n      <th>2021-05-24</th>\n      <td>R$ 6.50</td>\n      <td>R$ 6.52</td>\n      <td>R$ 6.52</td>\n      <td>R$ 6.40</td>\n      <td>1,349,800</td>\n    </tr>\n    <tr>\n      <th>2021-05-25</th>\n      <td>R$ 6.60</td>\n      <td>R$ 6.54</td>\n      <td>R$ 6.69</td>\n      <td>R$ 6.49</td>\n      <td>1,612,200</td>\n    </tr>\n    <tr>\n      <th>2021-05-26</th>\n      <td>R$ 6.74</td>\n      <td>R$ 6.60</td>\n      <td>R$ 6.84</td>\n      <td>R$ 6.57</td>\n      <td>1,693,100</td>\n    </tr>\n    <tr>\n      <th>2021-05-27</th>\n      <td>R$ 6.90</td>\n      <td>R$ 6.76</td>\n      <td>R$ 6.90</td>\n      <td>R$ 6.71</td>\n      <td>1,321,600</td>\n    </tr>\n    <tr>\n      <th>2021-05-28</th>\n      <td>R$ 6.79</td>\n      <td>R$ 6.91</td>\n      <td>R$ 6.96</td>\n      <td>R$ 6.75</td>\n      <td>977,600</td>\n    </tr>\n  </tbody>\n</table>\n<p>100 rows × 5 columns</p>\n</div>"
    },
    "metadata": {},
    "execution_count": 33,
    "output_type": "execute_result"
}
],
            "execution_count": 33
        }
    ]
}